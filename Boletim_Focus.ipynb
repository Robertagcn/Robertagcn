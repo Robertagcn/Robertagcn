{
  "nbformat": 4,
  "nbformat_minor": 0,
  "metadata": {
    "colab": {
      "provenance": [],
      "authorship_tag": "ABX9TyNI08cqBcMfBsbSepFDNR/h",
      "include_colab_link": true
    },
    "kernelspec": {
      "name": "python3",
      "display_name": "Python 3"
    },
    "language_info": {
      "name": "python"
    }
  },
  "cells": [
    {
      "cell_type": "markdown",
      "metadata": {
        "id": "view-in-github",
        "colab_type": "text"
      },
      "source": [
        "<a href=\"https://colab.research.google.com/github/Robertagcn/Robertagcn/blob/main/Boletim_Focus.ipynb\" target=\"_parent\"><img src=\"https://colab.research.google.com/assets/colab-badge.svg\" alt=\"Open In Colab\"/></a>"
      ]
    },
    {
      "cell_type": "markdown",
      "source": [
        "# ***Coletando dados do Boletim Focus com o Python - Análise Macro*** \n",
        "\n",
        "https://analisemacro.com.br/economia/indicadores/como-coletar-dados-do-boletim-focus-com-o-python/"
      ],
      "metadata": {
        "id": "vaqgB2u_4AOx"
      }
    },
    {
      "cell_type": "code",
      "execution_count": 1,
      "metadata": {
        "colab": {
          "base_uri": "https://localhost:8080/"
        },
        "id": "PnaLHcdR3ia1",
        "outputId": "856721f3-0998-4d20-db00-57fdd2f2f727"
      },
      "outputs": [
        {
          "output_type": "stream",
          "name": "stdout",
          "text": [
            "Looking in indexes: https://pypi.org/simple, https://us-python.pkg.dev/colab-wheels/public/simple/\n",
            "Collecting python-bcb\n",
            "  Downloading python_bcb-0.1.7-py3-none-any.whl (13 kB)\n",
            "Collecting httpx\n",
            "  Downloading httpx-0.23.0-py3-none-any.whl (84 kB)\n",
            "\u001b[K     |████████████████████████████████| 84 kB 2.3 MB/s \n",
            "\u001b[?25hCollecting rfc3986[idna2008]<2,>=1.3\n",
            "  Downloading rfc3986-1.5.0-py2.py3-none-any.whl (31 kB)\n",
            "Requirement already satisfied: certifi in /usr/local/lib/python3.7/dist-packages (from httpx->python-bcb) (2022.6.15)\n",
            "Collecting httpcore<0.16.0,>=0.15.0\n",
            "  Downloading httpcore-0.15.0-py3-none-any.whl (68 kB)\n",
            "\u001b[K     |████████████████████████████████| 68 kB 4.1 MB/s \n",
            "\u001b[?25hCollecting sniffio\n",
            "  Downloading sniffio-1.3.0-py3-none-any.whl (10 kB)\n",
            "Collecting anyio==3.*\n",
            "  Downloading anyio-3.6.1-py3-none-any.whl (80 kB)\n",
            "\u001b[K     |████████████████████████████████| 80 kB 8.5 MB/s \n",
            "\u001b[?25hCollecting h11<0.13,>=0.11\n",
            "  Downloading h11-0.12.0-py3-none-any.whl (54 kB)\n",
            "\u001b[K     |████████████████████████████████| 54 kB 3.0 MB/s \n",
            "\u001b[?25hRequirement already satisfied: typing-extensions in /usr/local/lib/python3.7/dist-packages (from anyio==3.*->httpcore<0.16.0,>=0.15.0->httpx->python-bcb) (4.1.1)\n",
            "Requirement already satisfied: idna>=2.8 in /usr/local/lib/python3.7/dist-packages (from anyio==3.*->httpcore<0.16.0,>=0.15.0->httpx->python-bcb) (2.10)\n",
            "Installing collected packages: sniffio, rfc3986, h11, anyio, httpcore, httpx, python-bcb\n",
            "Successfully installed anyio-3.6.1 h11-0.12.0 httpcore-0.15.0 httpx-0.23.0 python-bcb-0.1.7 rfc3986-1.5.0 sniffio-1.3.0\n"
          ]
        }
      ],
      "source": [
        "#A biblioteca {python-bcb} realiza a conexão com a API do Banco Central\n",
        "!pip install python-bcb"
      ]
    },
    {
      "cell_type": "code",
      "source": [
        "from bcb import Expectativas"
      ],
      "metadata": {
        "id": "A1DIseEa4MsX"
      },
      "execution_count": 5,
      "outputs": []
    },
    {
      "cell_type": "code",
      "source": [
        "import pandas as pd"
      ],
      "metadata": {
        "id": "Lys3lUlY4trr"
      },
      "execution_count": 3,
      "outputs": []
    },
    {
      "cell_type": "code",
      "source": [
        "from matplotlib import pyplot as plt"
      ],
      "metadata": {
        "id": "YLwr9HzA4wVt"
      },
      "execution_count": 6,
      "outputs": []
    },
    {
      "cell_type": "code",
      "source": [
        "import seaborn as sns"
      ],
      "metadata": {
        "id": "_w3yGgtJ5b9i"
      },
      "execution_count": 8,
      "outputs": []
    },
    {
      "cell_type": "code",
      "source": [
        "# Utilizamos a função Expectativas() para instanciar com as informações da pesquisa. Salvamos em objeto com o nome \"em\" para utilizar o método describe() de forma a obtermos as pesquisas disponíveis e conectar com a que desejamos. No caso, queremos obter informações das Expectativas Anuais."
      ],
      "metadata": {
        "id": "-NlE6c8q6ITk"
      },
      "execution_count": 15,
      "outputs": []
    },
    {
      "cell_type": "code",
      "source": [
        "em = Expectativas()"
      ],
      "metadata": {
        "id": "gEURiSji5fY4"
      },
      "execution_count": 9,
      "outputs": []
    },
    {
      "cell_type": "code",
      "source": [
        "em.describe()"
      ],
      "metadata": {
        "colab": {
          "base_uri": "https://localhost:8080/"
        },
        "id": "LmD1k-9Q5szk",
        "outputId": "860d6bfe-e348-462c-e864-54b54770efc0"
      },
      "execution_count": 11,
      "outputs": [
        {
          "output_type": "stream",
          "name": "stdout",
          "text": [
            "EntitySets:\n",
            "  ExpectativasMercadoTop5Anuais\n",
            "  ExpectativasMercadoInstituicoes\n",
            "  ExpectativaMercadoMensais\n",
            "  ExpectativasMercadoInflacao12Meses\n",
            "  ExpectativasMercadoSelic\n",
            "  ExpectativasMercadoTop5Selic\n",
            "  ExpectativasMercadoTop5Mensais\n",
            "  ExpectativasMercadoTrimestrais\n",
            "  ExpectativasMercadoAnuais\n"
          ]
        }
      ]
    },
    {
      "cell_type": "code",
      "source": [
        "em.describe('ExpectativasMercadoAnuais')"
      ],
      "metadata": {
        "colab": {
          "base_uri": "https://localhost:8080/"
        },
        "id": "sVfnQKBY5vE9",
        "outputId": "19f564ef-6deb-4e05-fdf9-044824264f69"
      },
      "execution_count": 12,
      "outputs": [
        {
          "output_type": "stream",
          "name": "stdout",
          "text": [
            "\n",
            "EntitySet (Endpoint): ExpectativasMercadoAnuais\n",
            "EntityType: br.gov.bcb.olinda.servico.Expectativas.ExpectativaMercadoAnual\n",
            "Properties: Indicador<str>, IndicadorDetalhe<str>, Data<str>, DataReferencia<str>, Media<float>, Mediana<float>, DesvioPadrao<float>, Minimo<float>, Maximo<float>, numeroRespondentes<int>, baseCalculo<int>\n"
          ]
        }
      ]
    },
    {
      "cell_type": "code",
      "source": [
        "#Com as informações conhecidas sobre o data frame a ser importado, utilizamos o método get_endpoint() para conectar com a API do Banco Central e executar a consulta com .query()"
      ],
      "metadata": {
        "id": "oZ_4gYt-57e9"
      },
      "execution_count": 14,
      "outputs": []
    },
    {
      "cell_type": "code",
      "source": [
        "ep = em.get_endpoint('ExpectativasMercadoAnuais')"
      ],
      "metadata": {
        "id": "FJ8UBGlC6EWD"
      },
      "execution_count": 16,
      "outputs": []
    },
    {
      "cell_type": "code",
      "source": [
        "# Dados da Selic"
      ],
      "metadata": {
        "id": "UQNJ4Euc7_nT"
      },
      "execution_count": null,
      "outputs": []
    },
    {
      "cell_type": "code",
      "source": [
        "selic_expec = (ep.query()\n",
        "  .filter(ep.Indicador == 'Selic', ep.DataReferencia == 2023)\n",
        "  .filter(ep.Data >= '2022-01-01')\n",
        "  .filter(ep.baseCalculo == '0')\n",
        "  .select(ep.Indicador, ep.Data, ep.Media, ep.Mediana, ep.DataReferencia)\n",
        "  .collect()\n",
        "  )"
      ],
      "metadata": {
        "id": "AiQR8iQJ6ZvF"
      },
      "execution_count": 19,
      "outputs": []
    },
    {
      "cell_type": "code",
      "source": [
        "# Formata a coluna de Data para formato Datetime"
      ],
      "metadata": {
        "id": "aTO0_rqI7xK7"
      },
      "execution_count": 20,
      "outputs": []
    },
    {
      "cell_type": "code",
      "source": [
        "selic_expec['Data'] = pd.to_datetime(selic_expec['Data'], format = '%Y-%m-%d')"
      ],
      "metadata": {
        "id": "0x5jLfWH8Ij7"
      },
      "execution_count": 22,
      "outputs": []
    },
    {
      "cell_type": "code",
      "source": [
        "# Configura o tema do gráfico"
      ],
      "metadata": {
        "id": "kJj0EAWf8lDJ"
      },
      "execution_count": 23,
      "outputs": []
    },
    {
      "cell_type": "code",
      "source": [
        "#Cores\n",
        "colors = ['#282f6b', '#b22200', '#eace3f', '#224f20', '#b35c1e', '#419391', '#839c56', '#3b89bc']\n",
        "\n",
        "#Tamanho\n",
        "theme = {'figure.figsize' : (15,10)}\n",
        "\n",
        "#Aplicar o tema\n",
        "sns.set_theme(rc = theme,\n",
        "              palette = colors)"
      ],
      "metadata": {
        "id": "66AOC-7x-NBn"
      },
      "execution_count": 25,
      "outputs": []
    },
    {
      "cell_type": "code",
      "source": [
        "#Lineplot\n",
        "sns.lineplot(x = 'Data',\n",
        "             y = 'Mediana',\n",
        "             data = selic_expec).set(title = 'Expectativas de Mercado para a Selic - 2023',\n",
        "                                     xlabel = '',\n",
        "                                     ylabel = '% a.a.')\n",
        "             \n",
        "#Adiciona a fonte do gráfico\n",
        "plt.annotate('Fonte: analisemacro.com.br com dados do BCB/SGS',\n",
        "             xy = (1.0, -0.07),\n",
        "             xycoords = 'axes fraction',\n",
        "             ha = 'right',\n",
        "             va = 'center',\n",
        "             fontsize = 10)"
      ],
      "metadata": {
        "colab": {
          "base_uri": "https://localhost:8080/",
          "height": 651
        },
        "id": "Icu9EMgr_RuR",
        "outputId": "3461ec3f-a3ad-4dc4-dbc1-e9da02466dc9"
      },
      "execution_count": 28,
      "outputs": [
        {
          "output_type": "execute_result",
          "data": {
            "text/plain": [
              "Text(1.0, -0.07, 'Fonte: analisemacro.com.br com dados do BCB/SGS')"
            ]
          },
          "metadata": {},
          "execution_count": 28
        },
        {
          "output_type": "display_data",
          "data": {
            "text/plain": [
              "<Figure size 1080x720 with 1 Axes>"
            ],
            "image/png": "[encoded data removed]"
          },
          "metadata": {}
        }
      ]
    },
    {
      "cell_type": "code",
      "source": [],
      "metadata": {
        "id": "dYgUFQmYAOgc"
      },
      "execution_count": null,
      "outputs": []
    }
  ]
}